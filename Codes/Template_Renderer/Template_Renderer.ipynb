{
  "nbformat": 4,
  "nbformat_minor": 0,
  "metadata": {
    "colab": {
      "name": "Template_Renderer.ipynb",
      "provenance": []
    },
    "kernelspec": {
      "name": "python3",
      "display_name": "Python 3"
    },
    "language_info": {
      "name": "python"
    }
  },
  "cells": [
    {
      "cell_type": "code",
      "execution_count": null,
      "metadata": {
        "colab": {
          "base_uri": "https://localhost:8080/"
        },
        "id": "O0NoBMJUOE6x",
        "outputId": "ca2e57fa-e2c5-4a8e-e455-b2de74521c07"
      },
      "outputs": [
        {
          "output_type": "stream",
          "name": "stdout",
          "text": [
            "Requirement already satisfied: jinja2 in /usr/local/lib/python3.7/dist-packages (2.11.3)\n",
            "Requirement already satisfied: MarkupSafe>=0.23 in /usr/local/lib/python3.7/dist-packages (from jinja2) (2.0.1)\n"
          ]
        }
      ],
      "source": [
        "pip install jinja2\n"
      ]
    },
    {
      "cell_type": "code",
      "source": [
        "from jinja2 import Environment, FileSystemLoader\n",
        "\n"
      ],
      "metadata": {
        "id": "JKy6rJJAOGmh"
      },
      "execution_count": null,
      "outputs": []
    },
    {
      "cell_type": "code",
      "source": [
        "fileLoader = FileSystemLoader('./')\n",
        "env = Environment(loader=fileLoader)\n",
        "template = env.get_template('template.j2')\n",
        "\n"
      ],
      "metadata": {
        "id": "gqMhzMhIOOrX"
      },
      "execution_count": null,
      "outputs": []
    },
    {
      "cell_type": "code",
      "source": [
        "text = template.render({\n",
        "    'name': 'ఏ లముసి',\n",
        "    'country': 'చైనా',\n",
        "    'sport': 'జూడో',\n",
        "    'NOC': 'CHN',\n",
        "    'Gender': 'M',\n",
        "    'dob': '02-06-1989',\n",
        "    'pob': 'ఇన్నర్ మంగోలియా',\n",
        "    'residence': 'నన',\n",
        "    'education': 'యూనివర్శిటీ ఆఫ్ జోర్డాన్',\n",
        "    'coach': 'లముసి',\n",
        "    'nationality': 'చైనా',\n",
        "    'height': '249',\n",
        "    'weight': '89',\n",
        "    'games': ['2012 సమ్మర్'],\n",
        "    'cities': ['లండన్'],\n",
        "    'sports': ['జూడో'],\n",
        "    'events': [\"జూడో మెన్స్ ఎక్స్‌ట్రా-లైట్ వెయిట్\"],\n",
        "    'medals': ['nan'],\n",
        "})\n",
        "print(text.strip())"
      ],
      "metadata": {
        "colab": {
          "base_uri": "https://localhost:8080/"
        },
        "id": "I1UH3eUzOQgK",
        "outputId": "fb9a0903-b337-491a-ca7d-58724b76879c"
      },
      "execution_count": null,
      "outputs": [
        {
          "output_type": "stream",
          "name": "stdout",
          "text": [
            "\n",
            "\n",
            "    \n",
            "    \n",
            "    \n",
            "    \n",
            "    \n",
            "    \n",
            "    \n",
            "    \n",
            "    \n",
            "    \n",
            "    \n",
            "    \n",
            "\n",
            "\n",
            "ఏ లముసి చైనా[CHN] దేశం తరపున జూడో లో పాల్గొనే క్రీడాకారుడు.\n",
            "        \n",
            "        \n",
            "        \n",
            "        \n",
            "        \n",
            "            \n",
            "        \n",
            "    \n",
            "\n",
            "    \n",
            "        \n",
            "    ఏ లముసి 02-06-1989 తేదీన ఇన్నర్ మంగోలియా లో జన్మించాడు.ఏ లముసి నన లో నివసిస్తాడు.అతడు యూనివర్శిటీ ఆఫ్ జోర్డాన్ లో చదువుకున్నాడు.ఏ లముసికు జూడో లో లముసికోచింగ్ ఇచ్చారు.ఏ లముసి జాతీయత చైనా.ఈ అథ్లెట్  ఎత్తు : 249 మీటర్లు.ఈ క్రీడాకారుడు బరువు : 89 కిలోలు.\n"
          ]
        }
      ]
    },
    {
      "cell_type": "code",
      "source": [
        ""
      ],
      "metadata": {
        "id": "NDgQ_O3NORpB"
      },
      "execution_count": null,
      "outputs": []
    }
  ]
}